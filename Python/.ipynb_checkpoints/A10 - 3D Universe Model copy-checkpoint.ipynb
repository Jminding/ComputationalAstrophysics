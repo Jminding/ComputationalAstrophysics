{
 "cells": [
  {
   "cell_type": "markdown",
   "id": "692ce39e",
   "metadata": {},
   "source": [
    "# A10 - 3D Model of the Universe"
   ]
  },
  {
   "cell_type": "code",
   "execution_count": 1,
   "id": "9d27d827",
   "metadata": {},
   "outputs": [],
   "source": [
    "# Imports\n",
    "import pandas as pd\n",
    "import plotly\n",
    "import plotly.express as px\n",
    "import plotly.graph_objects as go\n",
    "from plotly.offline import init_notebook_mode\n",
    "import astropy\n",
    "from astropy import units as u\n",
    "from astropy.coordinates import SkyCoord\n",
    "import numpy as np"
   ]
  },
  {
   "cell_type": "code",
   "execution_count": 2,
   "id": "073ee943",
   "metadata": {},
   "outputs": [],
   "source": [
    "# Read in dataset\n",
    "df = pd.read_csv(\"Data/bsc5.csv\")"
   ]
  },
  {
   "cell_type": "code",
   "execution_count": 3,
   "id": "ccec78ab",
   "metadata": {},
   "outputs": [],
   "source": [
    "# Drop all objects that don't have trigonometric parallax\n",
    "df = df[df['n_Parallax'] != 'D']\n",
    "df = df[df['Parallax'].notnull()]\n",
    "df = df.reset_index()"
   ]
  },
  {
   "cell_type": "code",
   "execution_count": 4,
   "id": "609373a6",
   "metadata": {},
   "outputs": [],
   "source": [
    "# Add distance in parsecs (d_pc = 1 / p\")\n",
    "df['Distance'] = 1 / df['Parallax']"
   ]
  },
  {
   "cell_type": "code",
   "execution_count": 5,
   "id": "9a717a75",
   "metadata": {},
   "outputs": [],
   "source": [
    "# Convert RA to numbers and drop all NaN values\n",
    "df['RAh'] = pd.to_numeric(df['RAh'], errors='coerce').dropna()\n",
    "df['RAm'] = pd.to_numeric(df['RAm'], errors='coerce').dropna()\n",
    "df['RAs'] = pd.to_numeric(df['RAs'], errors='coerce').dropna()"
   ]
  },
  {
   "cell_type": "code",
   "execution_count": 6,
   "id": "54d26249",
   "metadata": {},
   "outputs": [],
   "source": [
    "# Convert DE to numbers and drop all NaN values\n",
    "df['DEd'] = pd.to_numeric(df['DEd'], errors='coerce').dropna()\n",
    "df['DEm'] = pd.to_numeric(df['DEm'], errors='coerce').dropna()\n",
    "df['DEs'] = pd.to_numeric(df['DEs'], errors='coerce').dropna()\n",
    "df = df.dropna(subset=['DE'])"
   ]
  },
  {
   "cell_type": "code",
   "execution_count": 7,
   "id": "22cb4f01",
   "metadata": {},
   "outputs": [],
   "source": [
    "# Reset the indices so no error\n",
    "df = df.reset_index()"
   ]
  },
  {
   "cell_type": "code",
   "execution_count": 8,
   "id": "274e4e8c",
   "metadata": {},
   "outputs": [],
   "source": [
    "# Make the signs into \"+1\" or \"-1\" for easier multiplication\n",
    "df['DE'] = df['DE'] + \"1\""
   ]
  },
  {
   "cell_type": "code",
   "execution_count": 9,
   "id": "c412aa8d",
   "metadata": {},
   "outputs": [],
   "source": [
    "# Convert Right Ascension and Declination into degrees\n",
    "df['RA'] = 15 * (df['RAh'] + df['RAm'] / 60 + df['RAs'] / 3600)\n",
    "df['DEC'] = pd.to_numeric(df['DE'], errors='coerce')\\\n",
    "            * (df['DEd'] + df['DEm'] / 60 + df['DEs'] / 3600)"
   ]
  },
  {
   "cell_type": "code",
   "execution_count": 10,
   "id": "437e55bb",
   "metadata": {},
   "outputs": [],
   "source": [
    "# Calculate the x, y, and z coordinates of each star using algebra\n",
    "tan = lambda angle: np.tan(angle * np.pi/180)\n",
    "df['x'] = df['Distance'] / np.sqrt(tan(df['DEC']) ** 2 + (tan(df['RA'])\\\n",
    "            * tan(df['DEC'])) ** 2 + 1 + tan(df['RA']) ** 2)\n",
    "df['y'] = df['x'] * tan(df['RA'])\n",
    "df['z'] = np.sqrt(df['Distance'] ** 2 - df['x'] ** 2 - df['y'] ** 2)"
   ]
  },
  {
   "cell_type": "code",
   "execution_count": 11,
   "id": "89a98a26",
   "metadata": {},
   "outputs": [],
   "source": [
    "# Make colors\n",
    "color_dict = {\"O\": \"#0000ff\", \"B\": \"#5959ff\", \"A\": \"#8f8fff\", \"F\": \"#00ff00\", \n",
    "              \"G\": \"#fff200\", \"K\": \"#ff8800\", \"M\": \"#ff0000\"}\n",
    "df['Sp'] = df['SpType'].apply(lambda x: \\\n",
    "            x[1:] if x.startswith(\"d\") or\\\n",
    "            x.startswith(\"g\") else x).astype(str).str[0]\n",
    "df['Color'] = df['Sp'].apply(lambda sp: \\\n",
    "            [color_dict[sp] for c in sp\\\n",
    "            if c in color_dict]).astype(str).str[2:-2]"
   ]
  },
  {
   "cell_type": "code",
   "execution_count": 12,
   "id": "43eac47c",
   "metadata": {},
   "outputs": [],
   "source": [
    "# Formats a number as x * 10^y\n",
    "def format_exp(x):\n",
    "    return (x[0] if x[0] != \"-\" else x[1])  + \".\"\\\n",
    "    + (x[1:4].rstrip('0') if x[0] != \"-\" else x[2:5])\\\n",
    "    + f\" x 10<sup>{len(x[1:])}</sup>\""
   ]
  },
  {
   "cell_type": "code",
   "execution_count": null,
   "id": "aba374c3",
   "metadata": {
    "scrolled": false
   },
   "outputs": [
    {
     "data": {
      "text/html": [
       "        <script type=\"text/javascript\">\n",
       "        window.PlotlyConfig = {MathJaxConfig: 'local'};\n",
       "        if (window.MathJax && window.MathJax.Hub && window.MathJax.Hub.Config) {window.MathJax.Hub.Config({SVG: {font: \"STIX-Web\"}});}\n",
       "        if (typeof require !== 'undefined') {\n",
       "        require.undef(\"plotly\");\n",
       "        requirejs.config({\n",
       "            paths: {\n",
       "                'plotly': ['https://cdn.plot.ly/plotly-2.24.1.min']\n",
       "            }\n",
       "        });\n",
       "        require(['plotly'], function(Plotly) {\n",
       "            window._Plotly = Plotly;\n",
       "        });\n",
       "        }\n",
       "        </script>\n",
       "        "
      ]
     },
     "metadata": {},
     "output_type": "display_data"
    }
   ],
   "source": [
    "# Draw the Plotly Graph\n",
    "init_notebook_mode(connected=True)\n",
    "df[\"Distance\"] = df[\"Distance\"].apply(abs)\n",
    "df[\"Miles\"] = df[\"Distance\"] * 1.917e+13\n",
    "df[\"LTYR\"] = df[\"Distance\"] * 3.26\n",
    "df[\"Miles\"] = df[\"Miles\"].astype(str).apply(format_exp)\n",
    "df[\"LTYR\"] = df[\"LTYR\"].astype(str).apply(format_exp)\n",
    "df[\"DistanceNice\"] = df[\"Distance\"].astype(str).apply(format_exp)\n",
    "replace_whitespace = lambda x: \" \".join(x.split())\n",
    "df[\"Name\"] = df[\"Name\"].astype(str).apply(replace_whitespace)\n",
    "df.replace(\"nan\", \"<i>Unknown</i>\", inplace=True)\n",
    "fig = px.scatter_3d(\n",
    "        df,\n",
    "        x='x', y='y', z='z',\n",
    "        color='Color', \n",
    "        hover_name=\"Name\",\n",
    "        hover_data={\n",
    "            \"HR\": True,\n",
    "            \"DistanceNice\": True,\n",
    "            \"RadVel\": True,\n",
    "            \"Sp\": True,\n",
    "            \"x\": False,\n",
    "            \"y\": False,\n",
    "            \"z\": False,\n",
    "            \"Color\": False\n",
    "        },\n",
    "        custom_data=[\"Name\", \"HR\", \"DistanceNice\", \"LTYR\", \"Miles\", \"RadVel\", \"Sp\"],\n",
    "        template=\"plotly_dark\"\n",
    "    )\n",
    "hovertemplate=\\\n",
    "\"\"\"\n",
    "<b>Star Info</b><br>\n",
    "<i>Name</i>: %{customdata[0]}<br>\n",
    "Bright Star Number: %{customdata[1]}<br>\n",
    "Distance (parsecs): %{customdata[2]}<br>\n",
    "Distance (lt yr): %{customdata[3]}<br>\n",
    "Distance (miles): %{customdata[4]}<br>\n",
    "Radial Velocity (km/s): %{customdata[5]}<br>\n",
    "Spectral Type: %{customdata[6]}<extra></extra>\n",
    "\"\"\"\n",
    "fig.update_traces(hovertemplate=hovertemplate)\n",
    "fig.update_layout(\n",
    "    title=go.layout.Title(\n",
    "        text=\"<b>3D Model of the Stars in the Universe<br><br><sup>Data from the Yale Bright Star Catalog</sup>\"\n",
    "    ), showlegend=False)\n",
    "fig.show()"
   ]
  },
  {
   "cell_type": "code",
   "execution_count": 14,
   "id": "114a1e81",
   "metadata": {},
   "outputs": [],
   "source": [
    "import plotly.io as pio\n",
    "\n",
    "pio.write_html(fig, file='index.html', auto_open=True)"
   ]
  }
 ],
 "metadata": {
  "kernelspec": {
   "display_name": "Python 3 (ipykernel)",
   "language": "python",
   "name": "python3"
  },
  "language_info": {
   "codemirror_mode": {
    "name": "ipython",
    "version": 3
   },
   "file_extension": ".py",
   "mimetype": "text/x-python",
   "name": "python",
   "nbconvert_exporter": "python",
   "pygments_lexer": "ipython3",
   "version": "3.11.4"
  }
 },
 "nbformat": 4,
 "nbformat_minor": 5
}
