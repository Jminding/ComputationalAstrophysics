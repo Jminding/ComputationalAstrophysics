{
 "cells": [
  {
   "cell_type": "code",
   "execution_count": 1,
   "id": "2f3f5915",
   "metadata": {},
   "outputs": [],
   "source": [
    "# Do imports\n",
    "import pandas as pd\n",
    "import os"
   ]
  },
  {
   "cell_type": "code",
   "execution_count": 3,
   "id": "f8c76e8c",
   "metadata": {},
   "outputs": [],
   "source": [
    "df = pd.read_csv(os.path.join(\"Data\", \"bsc5.csv\"))"
   ]
  },
  {
   "cell_type": "code",
   "execution_count": 4,
   "id": "727fa943",
   "metadata": {},
   "outputs": [
    {
     "name": "stdout",
     "output_type": "stream",
     "text": [
      "(9110, 53)\n"
     ]
    }
   ],
   "source": [
    "print(df.shape)"
   ]
  },
  {
   "cell_type": "code",
   "execution_count": 5,
   "id": "d1272467",
   "metadata": {},
   "outputs": [
    {
     "name": "stdout",
     "output_type": "stream",
     "text": [
      "   HR       Name          DM     HD       SAO     FK5 IRflag r_IRflag  \\\n",
      "0   1        NaN  BD+44 4550    3.0   36042.0     NaN    NaN      NaN   \n",
      "1   2        NaN  BD-01 4525    6.0  128569.0     NaN    NaN      NaN   \n",
      "2   3  33    Psc  BD-06 6357   28.0  128572.0  1002.0      I      NaN   \n",
      "3   4  86    Peg  BD+12 5063   87.0   91701.0  2004.0    NaN      NaN   \n",
      "4   5        NaN  BD+57 2865  123.0   21085.0     NaN    NaN      NaN   \n",
      "\n",
      "  Multiple   ADS  ... RadVel n_RadVel  l_RotVel  RotVel  u_RotVel Dmag   Sep  \\\n",
      "0      NaN  46.0  ...  -18.0      NaN       NaN   195.0       NaN  4.2  21.6   \n",
      "1      NaN   NaN  ...   14.0        V       NaN     NaN       NaN  NaN   NaN   \n",
      "2      NaN   NaN  ...   -6.0     SB1O         <    17.0       NaN  2.5   0.0   \n",
      "3      NaN   NaN  ...   -2.0       V?       NaN     NaN       NaN  NaN   NaN   \n",
      "4      NaN  61.0  ...  -12.0        V       NaN     NaN       NaN  0.8   1.4   \n",
      "\n",
      "   MultID  MultCnt  NoteFlag  \n",
      "0      AC      3.0       NaN  \n",
      "1     NaN      NaN       NaN  \n",
      "2     NaN      3.0         *  \n",
      "3     NaN      NaN       NaN  \n",
      "4     NaN      NaN         *  \n",
      "\n",
      "[5 rows x 53 columns]\n"
     ]
    }
   ],
   "source": [
    "print(df.head(5))"
   ]
  },
  {
   "cell_type": "code",
   "execution_count": 6,
   "id": "64afaac1",
   "metadata": {},
   "outputs": [
    {
     "name": "stdout",
     "output_type": "stream",
     "text": [
      "        HR Name          DM        HD       SAO     FK5 IRflag r_IRflag  \\\n",
      "9105  9106  NaN  CP-73 2346  225233.0  255629.0     NaN    NaN      NaN   \n",
      "9106  9107  NaN  BD+33 4828  225239.0   53622.0  2002.0    NaN      NaN   \n",
      "9107  9108  NaN  CP-72 2800  225253.0  255631.0  1001.0    NaN      NaN   \n",
      "9108  9109  NaN  BD+25 5068  225276.0   73731.0     NaN      I      NaN   \n",
      "9109  9110  NaN  BD+60 2667  225289.0   10962.0     NaN    NaN      NaN   \n",
      "\n",
      "     Multiple   ADS  ... RadVel n_RadVel  l_RotVel  RotVel  u_RotVel Dmag  \\\n",
      "9105      NaN   NaN  ...    8.0      NaN       NaN     NaN       NaN  NaN   \n",
      "9106      NaN   NaN  ...    4.0        V       NaN     NaN       NaN  NaN   \n",
      "9107      NaN   NaN  ...   -3.0        V       NaN     NaN       NaN  NaN   \n",
      "9108      NaN  42.0  ...   -5.0      NaN       NaN     NaN       NaN  4.5   \n",
      "9109      NaN   NaN  ...   14.0        V       NaN    50.0       NaN  NaN   \n",
      "\n",
      "       Sep  MultID  MultCnt  NoteFlag  \n",
      "9105   NaN     NaN      NaN       NaN  \n",
      "9106   NaN     NaN      NaN       NaN  \n",
      "9107   NaN     NaN      NaN       NaN  \n",
      "9108  17.5     NaN      NaN       NaN  \n",
      "9109   NaN     NaN      NaN         *  \n",
      "\n",
      "[5 rows x 53 columns]\n"
     ]
    }
   ],
   "source": [
    "print(df.tail(5))"
   ]
  },
  {
   "cell_type": "code",
   "execution_count": 7,
   "id": "c6bce10f",
   "metadata": {},
   "outputs": [
    {
     "name": "stdout",
     "output_type": "stream",
     "text": [
      "               HR             HD            SAO          FK5           ADS  \\\n",
      "count  9110.00000    9096.000000    9071.000000  3077.000000   1435.000000   \n",
      "mean   4555.50000  107334.581794  134193.509536  1954.447514   8278.804878   \n",
      "std    2629.97481   67739.321279   75516.511021  1209.016612   4700.699670   \n",
      "min       1.00000       3.000000     106.000000     1.000000      1.000000   \n",
      "25%    2278.25000   44330.500000   71659.000000   820.000000   4154.500000   \n",
      "50%    4555.50000  103449.500000  131443.000000  2104.000000   8406.000000   \n",
      "75%    6832.75000  167648.750000  200666.500000  3046.000000  11822.500000   \n",
      "max    9110.00000  225289.000000  258996.000000  3997.000000  17175.000000   \n",
      "\n",
      "           RAh1900      RAm1900      RAs1900      DEd1900      DEm1900  ...  \\\n",
      "count  9096.000000  9096.000000  9096.000000  9096.000000  9096.000000  ...   \n",
      "mean     11.555739    29.665347    29.990699    33.864886    29.355761  ...   \n",
      "std       6.787416    17.189771    17.301530    21.200809    17.454815  ...   \n",
      "min       0.000000     0.000000     0.000000     0.000000     0.000000  ...   \n",
      "25%       6.000000    15.000000    14.800000    16.000000    14.000000  ...   \n",
      "50%      11.000000    30.000000    30.300000    33.000000    29.000000  ...   \n",
      "75%      18.000000    45.000000    44.500000    50.000000    45.000000  ...   \n",
      "max      23.000000    59.000000    59.900000    89.000000    59.000000  ...   \n",
      "\n",
      "               U-B          R-I         pmRA         pmDE     Parallax  \\\n",
      "count  7206.000000  2551.000000  9091.000000  9096.000000  3288.000000   \n",
      "mean      0.374167     0.368491     0.001825    -0.019220     0.024515   \n",
      "std       0.804599     0.458768     0.163263     0.138356     0.032333   \n",
      "min      -1.110000    -0.530000    -3.646000    -5.813000    -0.032000   \n",
      "25%      -0.080000     0.020000    -0.024000    -0.031000     0.009000   \n",
      "50%       0.100000     0.310000    -0.002000    -0.008000     0.018000   \n",
      "75%       0.880000     0.570000     0.020000     0.007000     0.032000   \n",
      "max       7.400000     3.710000     4.136000     3.208000     0.751000   \n",
      "\n",
      "            RadVel       RotVel         Dmag          Sep      MultCnt  \n",
      "count  9088.000000  3932.000000  2888.000000  2951.000000  1148.000000  \n",
      "mean      0.600464    87.750763     3.536946    38.440291     3.710801  \n",
      "std      23.637570    83.451620     2.789877    70.584071     1.367829  \n",
      "min    -140.000000     0.000000     0.000000     0.000000     3.000000  \n",
      "25%     -14.000000    19.000000     1.000000     1.300000     3.000000  \n",
      "50%       0.000000    60.000000     3.200000    10.800000     3.000000  \n",
      "75%      15.000000   132.000000     5.700000    41.950000     4.000000  \n",
      "max     289.000000   455.000000    13.800000  1480.000000    17.000000  \n",
      "\n",
      "[8 rows x 31 columns]\n"
     ]
    }
   ],
   "source": [
    "print(df.describe())"
   ]
  },
  {
   "cell_type": "code",
   "execution_count": 8,
   "id": "adad942f",
   "metadata": {},
   "outputs": [
    {
     "name": "stdout",
     "output_type": "stream",
     "text": [
      "<class 'pandas.core.frame.DataFrame'>\n",
      "RangeIndex: 9110 entries, 0 to 9109\n",
      "Data columns (total 53 columns):\n",
      " #   Column      Non-Null Count  Dtype  \n",
      "---  ------      --------------  -----  \n",
      " 0   HR          9110 non-null   int64  \n",
      " 1   Name        3157 non-null   object \n",
      " 2   DM          9096 non-null   object \n",
      " 3   HD          9096 non-null   float64\n",
      " 4   SAO         9071 non-null   float64\n",
      " 5   FK5         3077 non-null   float64\n",
      " 6   IRflag      1743 non-null   object \n",
      " 7   r_IRflag    84 non-null     object \n",
      " 8   Multiple    1577 non-null   object \n",
      " 9   ADS         1435 non-null   float64\n",
      " 10  ADScomp     403 non-null    object \n",
      " 11  VarID       2182 non-null   object \n",
      " 12  RAh1900     9096 non-null   float64\n",
      " 13  RAm1900     9096 non-null   float64\n",
      " 14  RAs1900     9096 non-null   float64\n",
      " 15  DE          9096 non-null   object \n",
      " 16  DEd1900     9096 non-null   float64\n",
      " 17  DEm1900     9096 non-null   float64\n",
      " 18  DEs1900     9096 non-null   float64\n",
      " 19  RAh         9096 non-null   float64\n",
      " 20  RAm         9096 non-null   float64\n",
      " 21  RAs         9096 non-null   float64\n",
      " 22  DE.1        9096 non-null   object \n",
      " 23  DEd         9096 non-null   float64\n",
      " 24  DEm         9096 non-null   float64\n",
      " 25  DEs         9096 non-null   float64\n",
      " 26  GLON        9096 non-null   float64\n",
      " 27  GLAT        9096 non-null   float64\n",
      " 28  Vmag        9096 non-null   float64\n",
      " 29  n_Vmag      306 non-null    object \n",
      " 30  u_Vmag      1 non-null      object \n",
      " 31  B-V         8786 non-null   float64\n",
      " 32  u_B-V       30 non-null     object \n",
      " 33  U-B         7206 non-null   float64\n",
      " 34  u_U-B       46 non-null     object \n",
      " 35  R-I         2551 non-null   float64\n",
      " 36  n_R-I       303 non-null    object \n",
      " 37  SpType      9096 non-null   object \n",
      " 38  n_SpType    432 non-null    object \n",
      " 39  pmRA        9091 non-null   float64\n",
      " 40  pmDE        9096 non-null   float64\n",
      " 41  n_Parallax  393 non-null    object \n",
      " 42  Parallax    3288 non-null   float64\n",
      " 43  RadVel      9088 non-null   float64\n",
      " 44  n_RadVel    4962 non-null   object \n",
      " 45  l_RotVel    725 non-null    object \n",
      " 46  RotVel      3932 non-null   float64\n",
      " 47  u_RotVel    285 non-null    object \n",
      " 48  Dmag        2888 non-null   float64\n",
      " 49  Sep         2951 non-null   float64\n",
      " 50  MultID      1116 non-null   object \n",
      " 51  MultCnt     1148 non-null   float64\n",
      " 52  NoteFlag    4477 non-null   object \n",
      "dtypes: float64(30), int64(1), object(22)\n",
      "memory usage: 3.7+ MB\n",
      "None\n"
     ]
    }
   ],
   "source": [
    "print(df.info())"
   ]
  },
  {
   "cell_type": "code",
   "execution_count": null,
   "id": "a4375872",
   "metadata": {},
   "outputs": [],
   "source": []
  }
 ],
 "metadata": {
  "kernelspec": {
   "display_name": "Python 3 (ipykernel)",
   "language": "python",
   "name": "python3"
  },
  "language_info": {
   "codemirror_mode": {
    "name": "ipython",
    "version": 3
   },
   "file_extension": ".py",
   "mimetype": "text/x-python",
   "name": "python",
   "nbconvert_exporter": "python",
   "pygments_lexer": "ipython3",
   "version": "3.11.4"
  }
 },
 "nbformat": 4,
 "nbformat_minor": 5
}
