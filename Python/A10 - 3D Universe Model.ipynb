{
 "cells": [
  {
   "cell_type": "markdown",
   "id": "692ce39e",
   "metadata": {},
   "source": [
    "# A10 - 3D Model of the Universe"
   ]
  },
  {
   "cell_type": "code",
   "execution_count": 15,
   "id": "9d27d827",
   "metadata": {},
   "outputs": [],
   "source": [
    "# Imports\n",
    "import pandas as pd\n",
    "import plotly\n",
    "import plotly.express as px\n",
    "import plotly.graph_objects as go\n",
    "from plotly.offline import init_notebook_mode\n",
    "import astropy\n",
    "from astropy import units as u\n",
    "from astropy.coordinates import SkyCoord\n",
    "import numpy as np"
   ]
  },
  {
   "cell_type": "code",
   "execution_count": 16,
   "id": "073ee943",
   "metadata": {},
   "outputs": [],
   "source": [
    "# Read in dataset\n",
    "df = pd.read_csv(\"Data/bsc5.csv\")"
   ]
  },
  {
   "cell_type": "code",
   "execution_count": 17,
   "id": "ccec78ab",
   "metadata": {},
   "outputs": [],
   "source": [
    "# Drop all objects that don't have trigonometric parallax\n",
    "df = df[df['n_Parallax'] != 'D']\n",
    "df = df[df['Parallax'].notnull()]\n",
    "df = df.reset_index()"
   ]
  },
  {
   "cell_type": "code",
   "execution_count": 18,
   "id": "609373a6",
   "metadata": {},
   "outputs": [],
   "source": [
    "# Add distance in parsecs (d_pc = 1 / p\")\n",
    "df['Distance'] = 1 / df['Parallax']"
   ]
  },
  {
   "cell_type": "code",
   "execution_count": 19,
   "id": "9a717a75",
   "metadata": {},
   "outputs": [],
   "source": [
    "# Convert RA to numbers and drop all NaN values\n",
    "df['RAh'] = pd.to_numeric(df['RAh'], errors='coerce').dropna()\n",
    "df['RAm'] = pd.to_numeric(df['RAm'], errors='coerce').dropna()\n",
    "df['RAs'] = pd.to_numeric(df['RAs'], errors='coerce').dropna()"
   ]
  },
  {
   "cell_type": "code",
   "execution_count": 20,
   "id": "54d26249",
   "metadata": {},
   "outputs": [],
   "source": [
    "# Convert DE to numbers and drop all NaN values\n",
    "df['DEd'] = pd.to_numeric(df['DEd'], errors='coerce').dropna()\n",
    "df['DEm'] = pd.to_numeric(df['DEm'], errors='coerce').dropna()\n",
    "df['DEs'] = pd.to_numeric(df['DEs'], errors='coerce').dropna()\n",
    "df = df.dropna(subset=['DE'])"
   ]
  },
  {
   "cell_type": "code",
   "execution_count": 21,
   "id": "22cb4f01",
   "metadata": {},
   "outputs": [],
   "source": [
    "# Reset the indices so no error\n",
    "df = df.reset_index()"
   ]
  },
  {
   "cell_type": "code",
   "execution_count": 22,
   "id": "274e4e8c",
   "metadata": {},
   "outputs": [],
   "source": [
    "# Make the signs into \"+1\" or \"-1\" for easier multiplication\n",
    "df['DE'] = df['DE'] + \"1\""
   ]
  },
  {
   "cell_type": "code",
   "execution_count": 23,
   "id": "c412aa8d",
   "metadata": {},
   "outputs": [],
   "source": [
    "# Convert Right Ascension and Declination into degrees\n",
    "df['RA'] = 15 * (df['RAh'] + df['RAm'] / 60 + df['RAs'] / 3600)\n",
    "df['DEC'] = pd.to_numeric(df['DE'], errors='coerce')\\\n",
    "            * (df['DEd'] + df['DEm'] / 60 + df['DEs'] / 3600)"
   ]
  },
  {
   "cell_type": "code",
   "execution_count": 24,
   "id": "437e55bb",
   "metadata": {},
   "outputs": [],
   "source": [
    "# Calculate the x, y, and z coordinates of each star using algebra\n",
    "sin = lambda angle: np.sin(angle * np.pi / 180)\n",
    "cos = lambda angle: np.cos(angle * np.pi / 180)\n",
    "tan = lambda angle: np.tan(angle * np.pi /180)\n",
    "df['x'] = df['Distance'] / np.sqrt(tan(df['DEC']) ** 2 + (tan(df['RA'])\\\n",
    "            * tan(df['DEC'])) ** 2 + 1 + tan(df['RA']) ** 2)\n",
    "df['y'] = df['x'] * tan(df['RA'])\n",
    "df['z'] = np.sqrt(df['Distance'] ** 2 - df['x'] ** 2 - df['y'] ** 2)"
   ]
  },
  {
   "cell_type": "code",
   "execution_count": 25,
   "id": "89a98a26",
   "metadata": {},
   "outputs": [],
   "source": [
    "# Make colors\n",
    "color_dict = {\"O\": \"#0000ff\", \"B\": \"#5959ff\", \"A\": \"#8f8fff\", \"F\": \"#00ff00\", \n",
    "              \"G\": \"#ffff00\", \"K\": \"#ff8800\", \"M\": \"#ff0000\", \"S\": \"#ff0000\", \"C\": \"#ff0000\", \"W\": \"#0000ff\"}\n",
    "df['Sp'] = df['SpType'].apply(lambda x: \\\n",
    "            x[1:] if x.startswith(\"d\") or\\\n",
    "            x.startswith(\"g\") or\\\n",
    "            x.startswith(\"c\")\\\n",
    "            else x[2:] if x.startswith(\"sg\")\\\n",
    "            else x).astype(str).str[0]\n",
    "df['Color'] = df['Sp'].apply(lambda sp: \\\n",
    "            [color_dict[sp] for c in sp\\\n",
    "            if c in color_dict]).astype(str).str[2:-2]"
   ]
  },
  {
   "cell_type": "code",
   "execution_count": 26,
   "id": "43eac47c",
   "metadata": {},
   "outputs": [],
   "source": [
    "# Formats a number as x * 10^y\n",
    "def format_exp(x):\n",
    "#     return (x[0] if x[0] != \"-\" else x[1])\\\n",
    "#     + (x[1:4].rstrip('0') if x[0] != \"-\" else x[2:5])\\\n",
    "#     + f\" x 10<sup>{len(x[1:])}</sup>\"\n",
    "    return \"{:.2e}\".format(float(x))"
   ]
  },
  {
   "cell_type": "code",
   "execution_count": 29,
   "id": "aba374c3",
   "metadata": {
    "scrolled": false
   },
   "outputs": [
    {
     "data": {
      "text/html": [
       "        <script type=\"text/javascript\">\n",
       "        window.PlotlyConfig = {MathJaxConfig: 'local'};\n",
       "        if (window.MathJax && window.MathJax.Hub && window.MathJax.Hub.Config) {window.MathJax.Hub.Config({SVG: {font: \"STIX-Web\"}});}\n",
       "        if (typeof require !== 'undefined') {\n",
       "        require.undef(\"plotly\");\n",
       "        requirejs.config({\n",
       "            paths: {\n",
       "                'plotly': ['https://cdn.plot.ly/plotly-2.24.1.min']\n",
       "            }\n",
       "        });\n",
       "        require(['plotly'], function(Plotly) {\n",
       "            window._Plotly = Plotly;\n",
       "        });\n",
       "        }\n",
       "        </script>\n",
       "        "
      ]
     },
     "metadata": {},
     "output_type": "display_data"
    }
   ],
   "source": [
    "# Draw the Plotly Graph\n",
    "init_notebook_mode(connected=True)\n",
    "df[\"Distance\"] = df[\"Distance\"].apply(abs)\n",
    "df[\"Miles\"] = df[\"Distance\"] * 1.917e+13\n",
    "df[\"LTYR\"] = df[\"Distance\"] * 3.26\n",
    "df[\"Miles\"] = df[\"Miles\"].astype(str).apply(format_exp)\n",
    "df[\"LTYR\"] = df[\"LTYR\"].astype(str).apply(format_exp)\n",
    "df[\"DistanceNice\"] = df[\"Distance\"].astype(str).apply(format_exp)\n",
    "replace_whitespace = lambda x: \" \".join(x.split())\n",
    "df[\"Name\"] = df[\"Name\"].astype(str).apply(replace_whitespace)\n",
    "df.replace(\"nan\", \"<i>Unknown</i>\", inplace=True)\n",
    "hovertemplate=\\\n",
    "\"\"\"\n",
    "<b>Star Info</b><br>\n",
    "<i>Name</i>: %{customdata[0]}<br>\n",
    "Bright Star Number: %{customdata[1]}<br>\n",
    "Distance (parsecs): %{customdata[2]}<br>\n",
    "Distance (lt yr): %{customdata[3]}<br>\n",
    "Distance (miles): %{customdata[4]}<br>\n",
    "Radial Velocity (km/s): %{customdata[5]}<br>\n",
    "Spectral Type: %{customdata[6]}<extra></extra>\n",
    "\"\"\"\n",
    "data = [\n",
    "    go.Scatter3d(\n",
    "            x=df['x'], y=df['y'], z=df['z'],\n",
    "            mode=\"markers\",\n",
    "            marker=dict(\n",
    "                color=df['Color']\n",
    "            ),\n",
    "            customdata=np.stack((df[\"Name\"], df[\"HR\"], df[\"DistanceNice\"], df[\"LTYR\"], df[\"Miles\"], df[\"RadVel\"], df[\"Sp\"]), axis=-1),\n",
    "            hovertemplate=hovertemplate,\n",
    "            showlegend=False\n",
    "        )\n",
    "]\n",
    "for sp in [\"O, W\", \"B\", \"A\", \"F\", \"G\", \"K\", \"M, S, C\"]:\n",
    "    data.append(\n",
    "        go.Scatter3d(\n",
    "                x=[None], y=[None], z=[None],\n",
    "                mode=\"markers\",\n",
    "                name=sp,\n",
    "                marker=dict(size=7, color=color_dict[sp[0]], symbol=\"circle\"),\n",
    "                customdata=np.stack((df[\"Name\"], df[\"HR\"], df[\"DistanceNice\"], df[\"LTYR\"], df[\"Miles\"], df[\"RadVel\"], df[\"Sp\"]), axis=-1),\n",
    "                hovertemplate=hovertemplate,\n",
    "                showlegend=True\n",
    "        )\n",
    "    )\n",
    "fig = go.Figure(data=data)\n",
    "fig.update_layout(\n",
    "    title=go.layout.Title(\n",
    "        text=\"<b>3D Model of the Stars in the Universe<br><br><sup>Data from the Yale Bright Star Catalog</sup>\"\n",
    "    ),\n",
    "    legend_title_text=\"Spectral Types\",\n",
    "    template=\"plotly_dark\"\n",
    ")\n",
    "fig.show()"
   ]
  }
 ],
 "metadata": {
  "kernelspec": {
   "display_name": "Python 3 (ipykernel)",
   "language": "python",
   "name": "python3"
  },
  "language_info": {
   "codemirror_mode": {
    "name": "ipython",
    "version": 3
   },
   "file_extension": ".py",
   "mimetype": "text/x-python",
   "name": "python",
   "nbconvert_exporter": "python",
   "pygments_lexer": "ipython3",
   "version": "3.11.4"
  }
 },
 "nbformat": 4,
 "nbformat_minor": 5
}
